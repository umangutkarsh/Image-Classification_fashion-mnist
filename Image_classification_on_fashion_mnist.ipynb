{
 "cells": [
  {
   "cell_type": "markdown",
   "id": "798c8bf0",
   "metadata": {},
   "source": [
    "### Importing the Dependencies"
   ]
  },
  {
   "cell_type": "markdown",
   "id": "e1aaa23d",
   "metadata": {},
   "source": [
    "#### Import the libraries for data analysis and data visualization"
   ]
  },
  {
   "cell_type": "code",
   "execution_count": 1,
   "id": "042d79b3",
   "metadata": {},
   "outputs": [],
   "source": [
    "import numpy as np\n",
    "import pandas as pd\n",
    "import matplotlib.pyplot as plt\n",
    "import seaborn as sns\n",
    "\n",
    "%matplotlib inline"
   ]
  },
  {
   "cell_type": "markdown",
   "id": "8a76e794",
   "metadata": {},
   "source": [
    "#### Since the dataset is in IDX file format, it is necessary to convert it into numpy arrays, to pass it to the CNN model. Neural networks don’t work with images files, they work with tensors, so all these have to be converted into numpy arrays."
   ]
  },
  {
   "cell_type": "markdown",
   "id": "872d67ac",
   "metadata": {},
   "source": [
    "IDX file format is a binary file format. Now, why store in this format when we have other text file formats? The answer is performance and memory requirements. If we look in terms of performance, binary file formats are far better than text file formats like CSV. CSV file formats are used to store tabular data, where for reading a particular value on a certain row or column, the software has to iterate over all the previous values. Whereas in binary file format you can literally store anything, provided you also write the proper information for parsing it, in the header of the file. It then makes accessing a binary file simpler and faster\n"
   ]
  },
  {
   "cell_type": "markdown",
   "id": "85a9979c",
   "metadata": {},
   "source": [
    "#### Importing the libraries to convert into npz format"
   ]
  },
  {
   "cell_type": "code",
   "execution_count": 2,
   "id": "aedc819c",
   "metadata": {},
   "outputs": [],
   "source": [
    "import struct as st\n",
    "import time\n",
    "import math"
   ]
  },
  {
   "cell_type": "markdown",
   "id": "c2934378",
   "metadata": {},
   "source": [
    "#### Data Preprocessing"
   ]
  },
  {
   "cell_type": "code",
   "execution_count": 3,
   "id": "32fdd82c",
   "metadata": {},
   "outputs": [],
   "source": [
    "trainingfilenames = {'images' : 'train-images-idx3-ubyte' ,'labels' : 'train-labels-idx1-ubyte'}\n",
    "testfilenames = {'images' : 't10k-images-idx3-ubyte' ,'labels' : 't10k-labels-idx1-ubyte'}\n",
    "\n",
    "data_types = {0x08: ('ubyte', 'B', 1), 0x09: ('byte', 'b', 1), 0x0B: ('>i2', 'h', 2), \n",
    "              0x0C: ('>i4', 'i', 4), 0x0D: ('>f4', 'f', 4), 0x0E: ('>f8', 'd', 8)}"
   ]
  },
  {
   "cell_type": "code",
   "execution_count": 4,
   "id": "6bc0f880",
   "metadata": {},
   "outputs": [
    {
     "name": "stdout",
     "output_type": "stream",
     "text": [
      "Training Dataset.......\n",
      "Data is 3-D\n",
      "Data Type ::  ubyte\n",
      "Data Format ::  B\n",
      "Data Size :: 1 byte\n",
      "\n",
      "no. of images ::  60000\n",
      "no. of rows ::  28\n",
      "no. of columns ::  28\n",
      "Time taken :: 0.8524506092071533 seconds\n",
      "\n",
      "16.666666666666664% complete...\n",
      "\n",
      "Time taken :: 1.4931740760803223 seconds\n",
      "\n",
      "33.33333333333333% complete...\n",
      "\n",
      "Time taken :: 2.211251974105835 seconds\n",
      "\n",
      "50.0% complete...\n",
      "\n",
      "Time taken :: 2.8625106811523438 seconds\n",
      "\n",
      "66.66666666666666% complete...\n",
      "\n",
      "Time taken :: 3.5420424938201904 seconds\n",
      "\n",
      "83.33333333333334% complete...\n",
      "\n",
      "Time taken :: 4.237180948257446 seconds\n",
      "\n",
      "100.0% complete...\n",
      "\n",
      "Training Set Labels shape :: (60000, 1)\n",
      "Training Set Image shape :: (60000, 28, 28)\n",
      "Time of execution :: 4.237180948257446 seconds\n",
      "\n"
     ]
    }
   ],
   "source": [
    "print(\"Training Dataset.......\")\n",
    "\n",
    "stime = time.time()\n",
    "\n",
    "for name in trainingfilenames.keys():\n",
    "    \n",
    "    if name == 'images':\n",
    "        train_imagesfile = open(trainingfilenames[name], 'rb')\n",
    "    if name == 'labels':\n",
    "        train_labelsfile = open(trainingfilenames[name], 'rb')\n",
    "\n",
    "train_imagesfile.seek(0)\n",
    "magic = st.unpack('>4B', train_imagesfile.read(4))\n",
    "\n",
    "if(magic[0] and magic[1]) or (magic[2] not in data_types):\n",
    "    raise ValueError(\"File Format not correct\")\n",
    "\n",
    "#Information\n",
    "nDim = magic[3]\n",
    "print(\"Data is \" + str(nDim) + \"-D\")\n",
    "dataType = data_types[magic[2]][0]\n",
    "print(\"Data Type :: \", dataType)\n",
    "dataFormat = data_types[magic[2]][1]\n",
    "print(\"Data Format :: \", dataFormat)\n",
    "dataSize = data_types[magic[2]][2]\n",
    "print(\"Data Size :: \" + str(dataSize) + \" byte\\n\")\n",
    "\n",
    "#offset = 0004 for number of images\n",
    "#offset = 0008 for number of rows\n",
    "#offset = 0012 for number of columns\n",
    "#32-bit integer (32 bits = 4 bytes)\n",
    "\n",
    "train_imagesfile.seek(4)\n",
    "nImg = st.unpack('>I', train_imagesfile.read(4))[0] #num of images/labels\n",
    "nR = st.unpack('>I', train_imagesfile.read(4))[0] #num of rows\n",
    "nC = st.unpack('>I', train_imagesfile.read(4))[0] #num of columns\n",
    "\n",
    "train_labelsfile.seek(8) #Since no. of items = no. of images and is already read\n",
    "print(\"no. of images :: \", nImg)\n",
    "print(\"no. of rows :: \", nR)\n",
    "print(\"no. of columns :: \", nC)\n",
    "print\n",
    "#Training set\n",
    "#Reading the labels\n",
    "\n",
    "train_labels_array = np.asarray(st.unpack('>' + dataFormat*nImg, train_labelsfile.read(nImg*dataSize))).reshape((nImg, 1))\n",
    "\n",
    "#Reading the Image data\n",
    "nBatch = 10000\n",
    "nIter = int(math.ceil(nImg/nBatch))\n",
    "nBytes = nBatch*nR*nC*dataSize\n",
    "nBytesTot = nImg*nR*nC*dataSize\n",
    "train_images_array = np.array([])\n",
    "\n",
    "for i in range(0, nIter):\n",
    "    #try:\n",
    "    temp_images_array = np.asarray(st.unpack('>' + dataFormat*nBytes, train_imagesfile.read(nBytes))).reshape((nBatch,nR,nC))\n",
    "    '''except:\n",
    "        nbytes = nBytesTot - (nIter-1)*nBytes\n",
    "        temp_images_array = 255 - np.asarray(st.unpack('>'+'B'*nbytes,train_imagesfile.read(nbytes))).reshape((nBatch,nR,nC))'''\n",
    "    #Stacking each nBatch block to form a larger block\n",
    "    \n",
    "    if train_images_array.size == 0:\n",
    "        train_images_array = temp_images_array\n",
    "    else:\n",
    "        train_images_array = np.vstack((train_images_array, temp_images_array))\n",
    "        \n",
    "    temp_images_array = np.array([])\n",
    "    print(\"Time taken :: \" + str(time.time()-stime) + \" seconds\\n\")\n",
    "    print(str((float(i+1)/nIter)*100) + \"% complete...\\n\")\n",
    "\n",
    "\n",
    "print(\"Training Set Labels shape ::\", train_labels_array.shape)\n",
    "print(\"Training Set Image shape ::\", train_images_array.shape)\n",
    "\n",
    "print(\"Time of execution :: \" + str(time.time() - stime) + \" seconds\\n\")"
   ]
  },
  {
   "cell_type": "code",
   "execution_count": 5,
   "id": "19ded32a",
   "metadata": {},
   "outputs": [
    {
     "name": "stdout",
     "output_type": "stream",
     "text": [
      "Test Dataset.......\n",
      "Data is  3 -D\n",
      "no. of images ::  10000\n",
      "no. of rows ::  28\n",
      "no. of columns ::  28\n",
      "Time taken :: 0.6871259212493896 seconds\n",
      "\n",
      "100.0% complete...\n",
      "\n",
      "Test Set Labels shape :: (10000, 1)\n",
      "Test Set Image shape :: (10000, 28, 28)\n",
      "Time of execution : 0.6881234645843506 seconds\n"
     ]
    }
   ],
   "source": [
    "print(\"Test Dataset.......\")\n",
    "\n",
    "stime = time.time()\n",
    "\n",
    "for name in testfilenames.keys():\n",
    "    \n",
    "    if name == 'images':\n",
    "        test_imagesfile = open(testfilenames[name],'rb')\n",
    "    if name == 'labels':\n",
    "        test_labelsfile = open(testfilenames[name],'rb')\n",
    "        \n",
    "test_imagesfile.seek(0)\n",
    "magic = st.unpack('>4B', test_imagesfile.read(4))\n",
    "\n",
    "if(magic[0] and magic[1]) or (magic[2] not in data_types):\n",
    "    raise ValueError(\"File Format not correct\")\n",
    "\n",
    "nDim = magic[3]\n",
    "print(\"Data is \", nDim,\"-D\")\n",
    "print\n",
    "#offset = 0004 for number of images\n",
    "#offset = 0008 for number of rows\n",
    "#offset = 0012 for number of columns\n",
    "#32-bit integer (32 bits = 4 bytes)\n",
    "\n",
    "test_imagesfile.seek(4)\n",
    "nImg = st.unpack('>I', test_imagesfile.read(4))[0] #num of images/labels\n",
    "nR = st.unpack('>I', test_imagesfile.read(4))[0] #num of rows\n",
    "nC = st.unpack('>I', test_imagesfile.read(4))[0] #num of columns\n",
    "\n",
    "test_labelsfile.seek(8) #Since no. of items = no. of images and is already read\n",
    "print(\"no. of images :: \", nImg)\n",
    "print(\"no. of rows :: \", nR)\n",
    "print(\"no. of columns :: \", nC)\n",
    "print\n",
    "#Test set\n",
    "#Reading the labels\n",
    "test_labels_array = np.asarray(st.unpack('>' + dataFormat*nImg, test_labelsfile.read(nImg*dataSize))).reshape((nImg, 1))\n",
    "\n",
    "#Reading the Image data\n",
    "nBatch = 10000\n",
    "nIter = int(math.ceil(nImg/nBatch))\n",
    "nBytes = nBatch*nR*nC*dataSize\n",
    "nBytesTot = nImg*nR*nC*dataSize\n",
    "test_images_array = np.array([])\n",
    "\n",
    "for i in range(0,nIter):\n",
    "    #try:\n",
    "    temp_images_array = np.asarray(st.unpack('>' + dataFormat*nBytes, test_imagesfile.read(nBytes))).reshape((nBatch, nR, nC))\n",
    "    '''except:\n",
    "        nbytes = nBytesTot - (nIter-1)*nBytes\n",
    "        temp_images_array = 255 - np.asarray(st.unpack('>'+'B'*nbytes,test_imagesfile.read(nbytes))).reshape((nBatch,nR,nC))'''\n",
    "    #Stacking each nBatch block to form a larger block\n",
    "    if test_images_array.size == 0:\n",
    "        test_images_array = temp_images_array\n",
    "    else:\n",
    "        test_images_array = np.vstack((test_images_array, temp_images_array))\n",
    "        \n",
    "    temp_images_array = np.array([])\n",
    "    \n",
    "    print(\"Time taken :: \"+str(time.time() - stime) + \" seconds\\n\")\n",
    "    print(str((float(i+1)/nIter)*100) + \"% complete...\\n\")\n",
    "\n",
    "\n",
    "print(\"Test Set Labels shape ::\", test_labels_array.shape)\n",
    "print(\"Test Set Image shape ::\", test_images_array.shape)\n",
    "\n",
    "print(\"Time of execution : %s seconds\" % str(time.time() - stime))"
   ]
  },
  {
   "cell_type": "markdown",
   "id": "7fce3e0f",
   "metadata": {},
   "source": [
    "#### Checking the size of train and test arrays, which contain the images and labels"
   ]
  },
  {
   "cell_type": "code",
   "execution_count": 9,
   "id": "c32997d6",
   "metadata": {},
   "outputs": [
    {
     "name": "stdout",
     "output_type": "stream",
     "text": [
      "60000\n",
      "10000\n"
     ]
    }
   ],
   "source": [
    "print(len(train_images_array))\n",
    "print(len(test_images_array))"
   ]
  },
  {
   "cell_type": "code",
   "execution_count": 10,
   "id": "95bf8503",
   "metadata": {},
   "outputs": [
    {
     "name": "stdout",
     "output_type": "stream",
     "text": [
      "60000\n",
      "10000\n"
     ]
    }
   ],
   "source": [
    "print(len(train_labels_array))\n",
    "print(len(test_labels_array))"
   ]
  },
  {
   "cell_type": "markdown",
   "id": "a71b7ce4",
   "metadata": {},
   "source": [
    "#### Normalizing to improve accuracy, can be easily achieved through tensorflow"
   ]
  },
  {
   "cell_type": "markdown",
   "id": "13077d05",
   "metadata": {},
   "source": [
    " Normalization is a process that changes the range of pixel intensity values. The purpose of dynamic range expansion in the various applications is usually to bring the image, or other type of signal, into a range that is more familiar or normal to the senses, hence the term normalization. "
   ]
  },
  {
   "cell_type": "code",
   "execution_count": 11,
   "id": "720a641c",
   "metadata": {},
   "outputs": [],
   "source": [
    "train_images_array = train_images_array.astype('float32')\n",
    "test_images_array = test_images_array.astype('float32')\n",
    "\n",
    "train_images_array = train_images_array/255.0\n",
    "test_images_array = test_images_array/255.0"
   ]
  },
  {
   "cell_type": "code",
   "execution_count": 12,
   "id": "2422adc4",
   "metadata": {},
   "outputs": [
    {
     "data": {
      "text/plain": [
       "array([0, 1, 2, 3, 4, 5, 6, 7, 8, 9])"
      ]
     },
     "execution_count": 12,
     "metadata": {},
     "output_type": "execute_result"
    }
   ],
   "source": [
    "np.unique(train_labels_array) #last layer will have 10 neurons"
   ]
  },
  {
   "cell_type": "markdown",
   "id": "1562d850",
   "metadata": {},
   "source": [
    "#### Constructing the CNN model"
   ]
  },
  {
   "cell_type": "code",
   "execution_count": 14,
   "id": "2a1360dc",
   "metadata": {},
   "outputs": [],
   "source": [
    "import tensorflow as tf\n",
    "from tensorflow.keras.models import Sequential\n",
    "from tensorflow.keras.layers import Conv2D, MaxPool2D, Flatten, Dense, Dropout\n",
    "from tensorflow.keras.losses import SparseCategoricalCrossentropy\n",
    "from tensorflow.keras.optimizers import SGD\n",
    "from tensorflow.keras.callbacks import EarlyStopping"
   ]
  },
  {
   "cell_type": "code",
   "execution_count": 15,
   "id": "cc3dd863",
   "metadata": {},
   "outputs": [],
   "source": [
    "model = Sequential()\n",
    "\n",
    "model.add(Conv2D(filters=32, kernel_size=3, activation='relu', kernel_initializer='he_uniform', input_shape=(28,28,1)))\n",
    "model.add(Conv2D(filters=64, kernel_size=3, activation='relu'))\n",
    "\n",
    "model.add(MaxPool2D(pool_size=(2,2)))\n",
    "model.add(Dropout(0.25))\n",
    "\n",
    "model.add(Flatten())\n",
    "\n",
    "model.add(Dense(128, activation='relu', kernel_initializer='he_uniform'))\n",
    "model.add(Dropout(0.5))\n",
    "\n",
    "model.add(Dense(10))"
   ]
  },
  {
   "cell_type": "code",
   "execution_count": 16,
   "id": "a103bd5a",
   "metadata": {},
   "outputs": [],
   "source": [
    "loss_fn = SparseCategoricalCrossentropy(from_logits=True)\n",
    "opt = SGD(learning_rate=0.01, momentum=0.9)\n",
    "\n",
    "model.compile(optimizer=opt, loss=loss_fn, metrics=['accuracy'])"
   ]
  },
  {
   "cell_type": "code",
   "execution_count": 17,
   "id": "d90aa451",
   "metadata": {},
   "outputs": [],
   "source": [
    "early_stop = EarlyStopping(monitor='val_loss', min_delta=0, patience=3, restore_best_weights=True, mode='auto')"
   ]
  },
  {
   "cell_type": "code",
   "execution_count": 18,
   "id": "1b9d092d",
   "metadata": {},
   "outputs": [
    {
     "name": "stdout",
     "output_type": "stream",
     "text": [
      "Model: \"sequential\"\n",
      "___________________________________________________________________________\n",
      " Layer (type)                    Output Shape                  Param #     \n",
      "===========================================================================\n",
      " conv2d (Conv2D)                 (None, 26, 26, 32)            320         \n",
      "                                                                           \n",
      " conv2d_1 (Conv2D)               (None, 24, 24, 64)            18496       \n",
      "                                                                           \n",
      " max_pooling2d (MaxPooling2D)    (None, 12, 12, 64)            0           \n",
      "                                                                           \n",
      " dropout (Dropout)               (None, 12, 12, 64)            0           \n",
      "                                                                           \n",
      " flatten (Flatten)               (None, 9216)                  0           \n",
      "                                                                           \n",
      " dense (Dense)                   (None, 128)                   1179776     \n",
      "                                                                           \n",
      " dropout_1 (Dropout)             (None, 128)                   0           \n",
      "                                                                           \n",
      " dense_1 (Dense)                 (None, 10)                    1290        \n",
      "                                                                           \n",
      "===========================================================================\n",
      "Total params: 1,199,882\n",
      "Trainable params: 1,199,882\n",
      "Non-trainable params: 0\n",
      "___________________________________________________________________________\n"
     ]
    }
   ],
   "source": [
    "model.summary(line_length=75)"
   ]
  },
  {
   "cell_type": "code",
   "execution_count": 19,
   "id": "d4a25f0d",
   "metadata": {},
   "outputs": [
    {
     "name": "stdout",
     "output_type": "stream",
     "text": [
      "Epoch 1/15\n",
      "1875/1875 [==============================] - 92s 48ms/step - loss: 0.5083 - accuracy: 0.8168 - val_loss: 0.3277 - val_accuracy: 0.8801\n",
      "Epoch 2/15\n",
      "1875/1875 [==============================] - 91s 48ms/step - loss: 0.3388 - accuracy: 0.8769 - val_loss: 0.2741 - val_accuracy: 0.8998\n",
      "Epoch 3/15\n",
      "1875/1875 [==============================] - 98s 52ms/step - loss: 0.2924 - accuracy: 0.8937 - val_loss: 0.2525 - val_accuracy: 0.9067\n",
      "Epoch 4/15\n",
      "1875/1875 [==============================] - 102s 54ms/step - loss: 0.2626 - accuracy: 0.9035 - val_loss: 0.2435 - val_accuracy: 0.9116\n",
      "Epoch 5/15\n",
      "1875/1875 [==============================] - 104s 55ms/step - loss: 0.2424 - accuracy: 0.9102 - val_loss: 0.2380 - val_accuracy: 0.9150\n",
      "Epoch 6/15\n",
      "1875/1875 [==============================] - 106s 56ms/step - loss: 0.2233 - accuracy: 0.9175 - val_loss: 0.2295 - val_accuracy: 0.9151\n",
      "Epoch 7/15\n",
      "1875/1875 [==============================] - 100s 54ms/step - loss: 0.2107 - accuracy: 0.9221 - val_loss: 0.2353 - val_accuracy: 0.9162\n",
      "Epoch 8/15\n",
      "1875/1875 [==============================] - 99s 53ms/step - loss: 0.1996 - accuracy: 0.9264 - val_loss: 0.2322 - val_accuracy: 0.9180\n",
      "Epoch 9/15\n",
      "1875/1875 [==============================] - 101s 54ms/step - loss: 0.1907 - accuracy: 0.9303 - val_loss: 0.2226 - val_accuracy: 0.9202\n",
      "Epoch 10/15\n",
      "1875/1875 [==============================] - 104s 56ms/step - loss: 0.1784 - accuracy: 0.9324 - val_loss: 0.2218 - val_accuracy: 0.9225\n",
      "Epoch 11/15\n",
      "1875/1875 [==============================] - 105s 56ms/step - loss: 0.1707 - accuracy: 0.9363 - val_loss: 0.2344 - val_accuracy: 0.9203\n",
      "Epoch 12/15\n",
      "1875/1875 [==============================] - 107s 57ms/step - loss: 0.1641 - accuracy: 0.9389 - val_loss: 0.2245 - val_accuracy: 0.9234\n",
      "Epoch 13/15\n",
      "1875/1875 [==============================] - 101s 54ms/step - loss: 0.1578 - accuracy: 0.9416 - val_loss: 0.2228 - val_accuracy: 0.9248\n"
     ]
    }
   ],
   "source": [
    "history = model.fit(x=train_images_array, y=train_labels_array, \n",
    "          validation_data=(test_images_array, test_labels_array), \n",
    "          epochs=15, batch_size=32, verbose=1, callbacks=[early_stop])"
   ]
  },
  {
   "cell_type": "markdown",
   "id": "7f367db4",
   "metadata": {},
   "source": [
    "##### Evaluating on the test set"
   ]
  },
  {
   "cell_type": "code",
   "execution_count": 20,
   "id": "ed84bf11",
   "metadata": {},
   "outputs": [
    {
     "name": "stdout",
     "output_type": "stream",
     "text": [
      "313/313 [==============================] - 3s 9ms/step - loss: 0.2218 - accuracy: 0.9225\n"
     ]
    }
   ],
   "source": [
    "test_loss, test_accuracy = model.evaluate(x=test_images_array, y=test_labels_array)"
   ]
  },
  {
   "cell_type": "code",
   "execution_count": 21,
   "id": "3965c364",
   "metadata": {},
   "outputs": [
    {
     "name": "stdout",
     "output_type": "stream",
     "text": [
      "Test loss: 22.180%. Test accuracy: 92.250%\n"
     ]
    }
   ],
   "source": [
    "print('Test loss: {:.3f}%. Test accuracy: {:.3f}%'.format(test_loss*100, test_accuracy*100))"
   ]
  },
  {
   "cell_type": "code",
   "execution_count": 22,
   "id": "09befef3",
   "metadata": {},
   "outputs": [
    {
     "name": "stdout",
     "output_type": "stream",
     "text": [
      "dict_keys(['loss', 'accuracy', 'val_loss', 'val_accuracy'])\n"
     ]
    }
   ],
   "source": [
    "print(history.history.keys())"
   ]
  },
  {
   "cell_type": "markdown",
   "id": "357d6fb3",
   "metadata": {},
   "source": [
    "Summarize history for accuracy, and loss"
   ]
  },
  {
   "cell_type": "code",
   "execution_count": 24,
   "id": "e953be57",
   "metadata": {
    "scrolled": true
   },
   "outputs": [
    {
     "data": {
      "image/png": "[encoded data removed]",
      "text/plain": [
       "<Figure size 432x288 with 1 Axes>"
      ]
     },
     "metadata": {
      "needs_background": "light"
     },
     "output_type": "display_data"
    }
   ],
   "source": [
    "plt.plot(history.history['accuracy'])\n",
    "plt.plot(history.history['val_accuracy'])\n",
    "plt.title('Model Accuracy')\n",
    "plt.ylabel('accuracy')\n",
    "plt.xlabel('epoch')\n",
    "plt.legend(['train', 'test'], loc='upper left')\n",
    "plt.show()"
   ]
  },
  {
   "cell_type": "code",
   "execution_count": 25,
   "id": "f1244061",
   "metadata": {
    "scrolled": true
   },
   "outputs": [
    {
     "data": {
      "image/png": "[encoded data removed]",
      "text/plain": [
       "<Figure size 432x288 with 1 Axes>"
      ]
     },
     "metadata": {
      "needs_background": "light"
     },
     "output_type": "display_data"
    }
   ],
   "source": [
    "plt.plot(history.history['loss'])\n",
    "plt.plot(history.history['val_loss'])\n",
    "plt.title('Model Loss')\n",
    "plt.ylabel('loss')\n",
    "plt.xlabel('epoch')\n",
    "plt.legend(['train', 'test'], loc='upper left')\n",
    "plt.show()"
   ]
  },
  {
   "cell_type": "markdown",
   "id": "6ff0f27a",
   "metadata": {},
   "source": [
    "### Testing the Model"
   ]
  },
  {
   "cell_type": "markdown",
   "id": "2cbabdaa",
   "metadata": {},
   "source": [
    "###### Importing Libraries for uploading the image and preprocessing it to feed into the model"
   ]
  },
  {
   "cell_type": "code",
   "execution_count": 69,
   "id": "74a2d651",
   "metadata": {},
   "outputs": [],
   "source": [
    "from PIL import Image\n",
    "from keras.preprocessing.image import img_to_array\n",
    "from skimage import data\n",
    "from skimage.color import rgb2gray"
   ]
  },
  {
   "cell_type": "code",
   "execution_count": 70,
   "id": "d263eb73",
   "metadata": {},
   "outputs": [
    {
     "data": {
      "text/plain": [
       "<matplotlib.image.AxesImage at 0x1f5cc7ca430>"
      ]
     },
     "execution_count": 70,
     "metadata": {},
     "output_type": "execute_result"
    },
    {
     "data": {
      "image/png": "[encoded data removed]",
      "text/plain": [
       "<Figure size 432x288 with 1 Axes>"
      ]
     },
     "metadata": {
      "needs_background": "light"
     },
     "output_type": "display_data"
    }
   ],
   "source": [
    "image_bag = \"purse_ladies.jpg\"\n",
    "\n",
    "image1 = Image.open(image_bag)\n",
    "\n",
    "plt.imshow(image1)"
   ]
  },
  {
   "cell_type": "markdown",
   "id": "342395d3",
   "metadata": {},
   "source": [
    "#### Creating functions to preprocess and reshape the image, then converting into grayscale"
   ]
  },
  {
   "cell_type": "code",
   "execution_count": 71,
   "id": "fec7e764",
   "metadata": {},
   "outputs": [],
   "source": [
    "def preprocess_image(image):\n",
    "    \n",
    "    image = image.resize((28, 28))\n",
    "    image = img_to_array(image)\n",
    "    #img = preprocess_input(img)\n",
    "    image = np.expand_dims(image, axis=0)\n",
    "    \n",
    "    return image"
   ]
  },
  {
   "cell_type": "code",
   "execution_count": 72,
   "id": "60aae026",
   "metadata": {},
   "outputs": [],
   "source": [
    "def reshape_normalize(image):\n",
    "    \n",
    "    image = image.reshape(1, 28, 28, 1)\n",
    "    image = image.astype('float32')\n",
    "    image = image/255.0\n",
    "    \n",
    "    return image"
   ]
  },
  {
   "cell_type": "code",
   "execution_count": 73,
   "id": "33329af0",
   "metadata": {},
   "outputs": [],
   "source": [
    "image_array = preprocess_image(image1)"
   ]
  },
  {
   "cell_type": "markdown",
   "id": "a9ad00a9",
   "metadata": {},
   "source": [
    "Checking the dimensions of the image, and converting into grayscale since the model takes a grayscale image as input"
   ]
  },
  {
   "cell_type": "code",
   "execution_count": 74,
   "id": "925c237e",
   "metadata": {},
   "outputs": [
    {
     "name": "stdout",
     "output_type": "stream",
     "text": [
      "28\n",
      "28\n"
     ]
    }
   ],
   "source": [
    "print(len(image_array[0]))\n",
    "print(len(image_array[0][0]))"
   ]
  },
  {
   "cell_type": "code",
   "execution_count": 75,
   "id": "81d4fb71",
   "metadata": {},
   "outputs": [],
   "source": [
    "img_gray = rgb2gray(image_array)"
   ]
  },
  {
   "cell_type": "code",
   "execution_count": 76,
   "id": "53723b67",
   "metadata": {},
   "outputs": [],
   "source": [
    "img_normalize = reshape_normalize(img_gray)"
   ]
  },
  {
   "cell_type": "markdown",
   "id": "a2ff4b86",
   "metadata": {},
   "source": [
    "##### Creating a function to output the prediction"
   ]
  },
  {
   "cell_type": "code",
   "execution_count": 77,
   "id": "28a91e76",
   "metadata": {},
   "outputs": [],
   "source": [
    "def prediction(preprocessed_image):\n",
    "    \n",
    "    y = model.predict(preprocessed_image)\n",
    "    val = np.argmax(y)\n",
    "    \n",
    "    labels = ['T-shirt/top', 'Trouser', 'Pullover', 'Dress', 'Coat', 'Sandal', 'Shirt', 'Sneaker', 'Bag', 'Ankle boot']\n",
    "    \n",
    "    result = ''\n",
    "    \n",
    "    for i, dress in enumerate(labels):\n",
    "        \n",
    "        if val == i:\n",
    "            result = dress\n",
    "            break\n",
    "        \n",
    "    return result"
   ]
  },
  {
   "cell_type": "code",
   "execution_count": 78,
   "id": "31db20fa",
   "metadata": {},
   "outputs": [
    {
     "data": {
      "text/plain": [
       "'Bag'"
      ]
     },
     "execution_count": 78,
     "metadata": {},
     "output_type": "execute_result"
    }
   ],
   "source": [
    "prediction(img_normalize)"
   ]
  }
 ],
 "metadata": {
  "kernelspec": {
   "display_name": "Python 3 (ipykernel)",
   "language": "python",
   "name": "python3"
  },
  "language_info": {
   "codemirror_mode": {
    "name": "ipython",
    "version": 3
   },
   "file_extension": ".py",
   "mimetype": "text/x-python",
   "name": "python",
   "nbconvert_exporter": "python",
   "pygments_lexer": "ipython3",
   "version": "3.9.7"
  }
 },
 "nbformat": 4,
 "nbformat_minor": 5
}
